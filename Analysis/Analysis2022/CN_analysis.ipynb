{
 "cells": [
  {
   "cell_type": "code",
   "execution_count": 4,
   "metadata": {},
   "outputs": [],
   "source": [
    "from igraph import *\n",
    "from Mota_CNtoolbox import *"
   ]
  },
  {
   "cell_type": "code",
   "execution_count": 5,
   "metadata": {},
   "outputs": [],
   "source": [
    "# Edit folder accordingly #\n",
    "\n",
    "main_path = \"C:\\\\Users\\\\me1rss\\\\Dropbox\\\\NeuralPathways\\\\Projects\\\\complexnets\\\\complexnets_storage\\\\Large Nets\""
   ]
  },
  {
   "cell_type": "code",
   "execution_count": 6,
   "metadata": {},
   "outputs": [],
   "source": [
    "\n",
    "paths = network_density_paths(main_path)\n",
    "\n",
    "fiftynets = network_acquisition(paths[0])\n",
    "\n",
    "hundrednets = network_acquisition(paths[1])\n"
   ]
  },
  {
   "cell_type": "code",
   "execution_count": null,
   "metadata": {},
   "outputs": [],
   "source": [
    "# Analysing the 50k networks for all simulations # "
   ]
  },
  {
   "cell_type": "code",
   "execution_count": null,
   "metadata": {},
   "outputs": [],
   "source": [
    "for nets in fiftynets:\n",
    "\n",
    "    net = Graph.Read(nets)\n",
    "    \n",
    "    # Just printing some graph basic info # \n",
    "    \n",
    "    print(\"Basic stats for \", nets)\n",
    "\n",
    "    net_vcount = net.vcount()\n",
    "    net_ecount = net.ecount()\n",
    "\n",
    "    print(\"Nodes:\", net_vcount)\n",
    "    print(\"Edges:\", net_vcount)\n",
    "\n",
    "    net_pathlength = net.average_path_length()\n",
    "\n",
    "    print(\"Average path lenght: \", net_pathlenght)\n"
   ]
  },
  {
   "cell_type": "code",
   "execution_count": null,
   "metadata": {},
   "outputs": [],
   "source": [
    "# Analysing the 100k networks for all simulations # "
   ]
  },
  {
   "cell_type": "code",
   "execution_count": null,
   "metadata": {},
   "outputs": [],
   "source": [
    "for nets in hundrednets:\n",
    "\n",
    "    net = Graph.Read(nets)\n",
    "    \n",
    "    # Just printing some graph basic info # \n",
    "    \n",
    "    print(\"Basic stats for \", nets)\n",
    "\n",
    "    net_vcount = net.vcount()\n",
    "    net_ecount = net.ecount()\n",
    "\n",
    "    print(\"Nodes:\", net_vcount)\n",
    "    print(\"Edges:\", net_vcount)\n",
    "\n",
    "    net_pathlength = net.average_path_length()\n",
    "\n",
    "    print(\"Average path lenght: \", net_pathlenght)\n"
   ]
  }
 ],
 "metadata": {
  "kernelspec": {
   "display_name": "Python 3",
   "language": "python",
   "name": "python3"
  },
  "language_info": {
   "codemirror_mode": {
    "name": "ipython",
    "version": 3
   },
   "file_extension": ".py",
   "mimetype": "text/x-python",
   "name": "python",
   "nbconvert_exporter": "python",
   "pygments_lexer": "ipython3",
   "version": "3.8.5"
  }
 },
 "nbformat": 4,
 "nbformat_minor": 4
}
