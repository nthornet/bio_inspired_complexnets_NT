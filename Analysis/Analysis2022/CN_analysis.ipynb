{
 "cells": [
  {
   "cell_type": "code",
   "execution_count": 4,
   "metadata": {},
   "outputs": [],
   "source": [
    "import time\n",
    "from igraph import *\n",
    "from Mota_CNtoolbox import *"
   ]
  },
  {
   "cell_type": "code",
   "execution_count": 5,
   "metadata": {},
   "outputs": [],
   "source": [
    "# Edit folder accordingly #\n",
    "\n",
    "main_path = \"C:\\\\Users\\\\me1rss\\\\Dropbox\\\\NeuralPathways\\\\Projects\\\\complexnets\\\\complexnets_storage\\\\Large Nets\""
   ]
  },
  {
   "cell_type": "code",
   "execution_count": 6,
   "metadata": {},
   "outputs": [],
   "source": [
    "\n",
    "paths = network_density_paths(main_path)\n",
    "\n",
    "fiftynets = network_acquisition(paths[0])\n",
    "\n",
    "hundrednets = network_acquisition(paths[1])\n"
   ]
  },
  {
   "cell_type": "code",
   "execution_count": null,
   "metadata": {},
   "outputs": [],
   "source": [
    "# Analysing the 50k networks for all simulations # "
   ]
  },
  {
   "cell_type": "code",
   "execution_count": 7,
   "metadata": {},
   "outputs": [
    {
     "name": "stdout",
     "output_type": "stream",
     "text": [
      "Basic stats for  C:\\Users\\me1rss\\Dropbox\\NeuralPathways\\Projects\\complexnets\\complexnets_storage\\Large Nets\\50k\\Sim 8\\\\Edges\\mota_net_death0.edges\n",
      "Nodes: 50000\n",
      "Edges: 50000\n"
     ]
    },
    {
     "ename": "NameError",
     "evalue": "name 'net_pathlenght' is not defined",
     "output_type": "error",
     "traceback": [
      "\u001b[1;31m---------------------------------------------------------------------------\u001b[0m",
      "\u001b[1;31mNameError\u001b[0m                                 Traceback (most recent call last)",
      "\u001b[1;32m<ipython-input-7-293b9dedb771>\u001b[0m in \u001b[0;36m<module>\u001b[1;34m\u001b[0m\n\u001b[0;32m     17\u001b[0m     \u001b[0mnet_pathlength\u001b[0m \u001b[1;33m=\u001b[0m \u001b[0mnet\u001b[0m\u001b[1;33m.\u001b[0m\u001b[0maverage_path_length\u001b[0m\u001b[1;33m(\u001b[0m\u001b[1;33m)\u001b[0m\u001b[1;33m\u001b[0m\u001b[1;33m\u001b[0m\u001b[0m\n\u001b[0;32m     18\u001b[0m \u001b[1;33m\u001b[0m\u001b[0m\n\u001b[1;32m---> 19\u001b[1;33m     \u001b[0mprint\u001b[0m\u001b[1;33m(\u001b[0m\u001b[1;34m\"Average path lenght: \"\u001b[0m\u001b[1;33m,\u001b[0m \u001b[0mnet_pathlenght\u001b[0m\u001b[1;33m)\u001b[0m\u001b[1;33m\u001b[0m\u001b[1;33m\u001b[0m\u001b[0m\n\u001b[0m\u001b[0;32m     20\u001b[0m \u001b[1;33m\u001b[0m\u001b[0m\n",
      "\u001b[1;31mNameError\u001b[0m: name 'net_pathlenght' is not defined"
     ]
    }
   ],
   "source": [
    "for nets in fiftynets:\n",
    "    \n",
    "    start = time.asctime(time.localtime(time.time()))\n",
    "    net = Graph.Read(nets)\n",
    "    \n",
    "    # Just printing some graph basic info # \n",
    "    \n",
    "    print(\"Basic stats for \", nets)\n",
    "\n",
    "    net_vcount = net.vcount()\n",
    "    net_ecount = net.ecount()\n",
    "\n",
    "    print(\"Nodes:\", net_vcount)\n",
    "    print(\"Edges:\", net_vcount)\n",
    "\n",
    "    net_pathlength = net.average_path_length()\n",
    "\n",
    "    print(\"Average path lenght: \", net_pathlength)\n",
    "    \n",
    "    print(\"Analysis started at: \", start)\n",
    "    print(\"Anal at: \", time.asctime(time.localtime(time.time())))\n"
   ]
  },
  {
   "cell_type": "code",
   "execution_count": null,
   "metadata": {},
   "outputs": [],
   "source": [
    "# Analysing the 100k networks for all simulations # "
   ]
  },
  {
   "cell_type": "code",
   "execution_count": null,
   "metadata": {},
   "outputs": [],
   "source": [
    "for nets in hundrednets:\n",
    "\n",
    "    net = Graph.Read(nets)\n",
    "    \n",
    "    # Just printing some graph basic info # \n",
    "    \n",
    "    print(\"Basic stats for \", nets)\n",
    "\n",
    "    net_vcount = net.vcount()\n",
    "    net_ecount = net.ecount()\n",
    "\n",
    "    print(\"Nodes:\", net_vcount)\n",
    "    print(\"Edges:\", net_vcount)\n",
    "\n",
    "    net_pathlength = net.average_path_length()\n",
    "\n",
    "    print(\"Average path lenght: \", net_pathlenght)\n"
   ]
  }
 ],
 "metadata": {
  "kernelspec": {
   "display_name": "Python 3",
   "language": "python",
   "name": "python3"
  },
  "language_info": {
   "codemirror_mode": {
    "name": "ipython",
    "version": 3
   },
   "file_extension": ".py",
   "mimetype": "text/x-python",
   "name": "python",
   "nbconvert_exporter": "python",
   "pygments_lexer": "ipython3",
   "version": "3.8.5"
  }
 },
 "nbformat": 4,
 "nbformat_minor": 4
}
