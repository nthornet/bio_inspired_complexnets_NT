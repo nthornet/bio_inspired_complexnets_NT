{
 "cells": [
  {
   "cell_type": "code",
   "execution_count": 5,
   "metadata": {},
   "outputs": [],
   "source": [
    "from igraph import *"
   ]
  },
  {
   "cell_type": "code",
   "execution_count": 6,
   "metadata": {},
   "outputs": [],
   "source": [
    "# Edit folder accordingly #\n",
    "\n",
    "netfolder = \"C:\\\\Users\\\\me1rss\\\\Dropbox\\\\NeuralPathways\\\\Projects\\\\complexnets\\\\complexnets_storage\\\\Large Nets\\\\100k\\\\Sim 1\\\\\\Edges\\\\\"\n",
    "samplenet=\"mota_net_death50.edges\""
   ]
  },
  {
   "cell_type": "code",
   "execution_count": null,
   "metadata": {},
   "outputs": [],
   "source": [
    "def net_path_acquisition(full_path):\n",
    "\n",
    "    \"\"\" Acquires the paths to the biologically-inspired networks for further analysis\n",
    "    \n",
    "          Arguments:\n",
    "              full_path(str): Paths to the directory where the recordings are stored in folders with the MEA\n",
    "              number.\n",
    "              \n",
    "        Returns:\n",
    "        \n",
    "           Networks dictionary with MEA numbers as keys and paths as values.\n",
    "          \"\"\"\n",
    "\n",
    "    path = Path(full_path)\n",
    "    net_paths = {}\n",
    "\n",
    "    for path in path.iterdir():\n",
    "\n",
    "        if path.is_dir():\n",
    "\n",
    "            path_to_string = str(path)\n",
    "\n",
    "            if path_to_string[-5:].isdigit():\n",
    "\n",
    "                key = path_to_string[-5:]\n",
    "                MEAs_paths[key] = str(path_to_string)\n",
    "\n",
    "            elif path_to_string[-4:].isdigit():\n",
    "\n",
    "                key = path_to_string[-4:]\n",
    "                net_paths[key] = str(path_to_string)\n",
    "\n",
    "    return MEAs_paths\n"
   ]
  },
  {
   "cell_type": "code",
   "execution_count": 8,
   "metadata": {},
   "outputs": [],
   "source": [
    "# Loading the network #\n",
    "\n",
    "net = Graph.Read(netfolder+samplenet)"
   ]
  },
  {
   "cell_type": "code",
   "execution_count": 16,
   "metadata": {},
   "outputs": [
    {
     "name": "stdout",
     "output_type": "stream",
     "text": [
      "Nodes 100000\n",
      "Edges 100000\n",
      "Average path lenght: 5.526838361273745\n"
     ]
    }
   ],
   "source": [
    "# Just printing some graph basic info # \n",
    "\n",
    "net_vcount = net.vcount()\n",
    "net_ecount = net.ecount()\n",
    "\n",
    "print(\"Nodes\", net_vcount)\n",
    "print(\"Edges\", net_vcount)\n",
    "\n",
    "net_pathlength = net.average_path_length()\n",
    "\n",
    "print(\"Average path lenght:\", net_pathlength)\n"
   ]
  },
  {
   "cell_type": "code",
   "execution_count": null,
   "metadata": {},
   "outputs": [],
   "source": []
  },
  {
   "cell_type": "code",
   "execution_count": null,
   "metadata": {},
   "outputs": [],
   "source": []
  }
 ],
 "metadata": {
  "kernelspec": {
   "display_name": "Python 3",
   "language": "python",
   "name": "python3"
  },
  "language_info": {
   "codemirror_mode": {
    "name": "ipython",
    "version": 3
   },
   "file_extension": ".py",
   "mimetype": "text/x-python",
   "name": "python",
   "nbconvert_exporter": "python",
   "pygments_lexer": "ipython3",
   "version": "3.8.5"
  }
 },
 "nbformat": 4,
 "nbformat_minor": 4
}
