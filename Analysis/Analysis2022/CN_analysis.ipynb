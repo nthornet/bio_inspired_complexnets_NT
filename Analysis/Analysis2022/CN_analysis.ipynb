{
 "cells": [
  {
   "cell_type": "code",
   "execution_count": 8,
   "metadata": {},
   "outputs": [],
   "source": [
    "import time\n",
    "from igraph import *\n",
    "from Mota_CNtoolbox import *"
   ]
  },
  {
   "cell_type": "code",
   "execution_count": 9,
   "metadata": {},
   "outputs": [],
   "source": [
    "# Edit folder accordingly #\n",
    "\n",
    "main_path = \"C:\\\\Users\\\\me1rss\\\\Dropbox\\\\NeuralPathways\\\\Projects\\\\complexnets\\\\complexnets_storage\\\\Large Nets\""
   ]
  },
  {
   "cell_type": "code",
   "execution_count": 10,
   "metadata": {},
   "outputs": [],
   "source": [
    "\n",
    "paths = network_density_paths(main_path)\n",
    "\n",
    "fiftynets = network_acquisition(paths[0])\n",
    "\n",
    "hundrednets = network_acquisition(paths[1])\n"
   ]
  },
  {
   "cell_type": "code",
   "execution_count": null,
   "metadata": {},
   "outputs": [],
   "source": [
    "# Analysing the 50k networks for all simulations # "
   ]
  },
  {
   "cell_type": "code",
   "execution_count": null,
   "metadata": {},
   "outputs": [
    {
     "name": "stdout",
     "output_type": "stream",
     "text": [
      "Basic stats for  C:\\Users\\me1rss\\Dropbox\\NeuralPathways\\Projects\\complexnets\\complexnets_storage\\Large Nets\\50k\\Sim 8\\\\Edges\\mota_net_death0.edges\n",
      "Nodes: 50000\n",
      "Edges: 50000\n",
      "Average path lenght:  5.016940485100823\n",
      "Analysis started at:  Tue Aug  9 14:08:44 2022\n",
      "Analysis finished at:  Tue Aug  9 14:19:35 2022\n",
      "Basic stats for  C:\\Users\\me1rss\\Dropbox\\NeuralPathways\\Projects\\complexnets\\complexnets_storage\\Large Nets\\50k\\Sim 8\\\\Edges\\mota_net_death100.edges\n",
      "Nodes: 50000\n",
      "Edges: 50000\n",
      "Average path lenght:  4.839147075657206\n",
      "Analysis started at:  Tue Aug  9 14:19:35 2022\n",
      "Analysis finished at:  Tue Aug  9 14:29:22 2022\n",
      "Basic stats for  C:\\Users\\me1rss\\Dropbox\\NeuralPathways\\Projects\\complexnets\\complexnets_storage\\Large Nets\\50k\\Sim 8\\\\Edges\\mota_net_death150.edges\n",
      "Nodes: 50000\n",
      "Edges: 50000\n",
      "Average path lenght:  4.828761738451962\n",
      "Analysis started at:  Tue Aug  9 14:29:22 2022\n",
      "Analysis finished at:  Tue Aug  9 14:39:03 2022\n"
     ]
    }
   ],
   "source": [
    "for nets in fiftynets:\n",
    "    \n",
    "    start = time.asctime(time.localtime(time.time()))\n",
    "    net = Graph.Read(nets)\n",
    "    \n",
    "    # Just printing some graph basic info # \n",
    "    \n",
    "    print(\"Basic stats for \", nets)\n",
    "\n",
    "    net_vcount = net.vcount()\n",
    "    net_ecount = net.ecount()\n",
    "\n",
    "    print(\"Nodes:\", net_vcount)\n",
    "    print(\"Edges:\", net_vcount)\n",
    "\n",
    "    net_pathlength = net.average_path_length()\n",
    "\n",
    "    print(\"Average path lenght: \", net_pathlength)\n",
    "    \n",
    "    print(\"Analysis started at: \", start)\n",
    "    print(\"Analysis finished at: \", time.asctime(time.localtime(time.time())))\n"
   ]
  },
  {
   "cell_type": "code",
   "execution_count": null,
   "metadata": {},
   "outputs": [],
   "source": [
    "# Analysing the 100k networks for all simulations # "
   ]
  },
  {
   "cell_type": "code",
   "execution_count": null,
   "metadata": {},
   "outputs": [],
   "source": [
    "for nets in hundrednets:\n",
    "\n",
    "    net = Graph.Read(nets)\n",
    "    \n",
    "    # Just printing some graph basic info # \n",
    "    \n",
    "    print(\"Basic stats for \", nets)\n",
    "\n",
    "    net_vcount = net.vcount()\n",
    "    net_ecount = net.ecount()\n",
    "\n",
    "    print(\"Nodes:\", net_vcount)\n",
    "    print(\"Edges:\", net_vcount)\n",
    "\n",
    "    net_pathlength = net.average_path_length()\n",
    "\n",
    "    print(\"Average path lenght: \", net_pathlenght)\n"
   ]
  }
 ],
 "metadata": {
  "kernelspec": {
   "display_name": "Python 3",
   "language": "python",
   "name": "python3"
  },
  "language_info": {
   "codemirror_mode": {
    "name": "ipython",
    "version": 3
   },
   "file_extension": ".py",
   "mimetype": "text/x-python",
   "name": "python",
   "nbconvert_exporter": "python",
   "pygments_lexer": "ipython3",
   "version": "3.8.5"
  }
 },
 "nbformat": 4,
 "nbformat_minor": 4
}
